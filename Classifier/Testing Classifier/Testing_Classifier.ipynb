{
 "cells": [
  {
   "cell_type": "markdown",
   "metadata": {
    "id": "FKRSbmu4Hmag"
   },
   "source": [
    "# Testing classifier\n",
    "\n",
    "This script can be used to test the classifier against any input file previously generated.\n",
    "\n",
    "In this case, we will use test set for our original IMDB dataset (on which we trained the model)."
   ]
  },
  {
   "cell_type": "code",
   "execution_count": 2,
   "metadata": {
    "id": "XAxbz_6GqSkr"
   },
   "outputs": [],
   "source": [
    "import numpy as np\n",
    "import torch\n",
    "from torch.utils.data import Dataset, DataLoader\n",
    "import pandas as pd\n",
    "import os"
   ]
  },
  {
   "cell_type": "markdown",
   "metadata": {
    "id": "k1XxOsu_4EgE"
   },
   "source": [
    "# Loading test data"
   ]
  },
  {
   "cell_type": "code",
   "execution_count": 17,
   "metadata": {
    "colab": {
     "base_uri": "https://localhost:8080/"
    },
    "id": "SVm-1sPXrlwa",
    "outputId": "71b7edb2-de70-405a-e92d-6b3f91798af6"
   },
   "outputs": [
    {
     "data": {
      "text/plain": [
       "(682, 514)"
      ]
     },
     "execution_count": 17,
     "metadata": {
      "tags": []
     },
     "output_type": "execute_result"
    }
   ],
   "source": [
    "#Replace imdb_test_data.csv with the correct logit file\n",
    "df_test = pd.read_csv(\"../Input data/imdb_test_data.csv\", index_col=0)\n",
    "df_test.shape"
   ]
  },
  {
   "cell_type": "code",
   "execution_count": 18,
   "metadata": {
    "id": "XO3oABfSwNz7"
   },
   "outputs": [],
   "source": [
    "if len(df_test)>500:\n",
    "    df_test = df_test.sample(n=500, random_state=11)"
   ]
  },
  {
   "cell_type": "code",
   "execution_count": 19,
   "metadata": {
    "id": "r9TtDiWhroBe"
   },
   "outputs": [],
   "source": [
    "y_test = df_test['y_label'].values\n",
    "x_test = df_test.drop(columns=['y_label', 'sentence']).values"
   ]
  },
  {
   "cell_type": "code",
   "execution_count": 20,
   "metadata": {
    "colab": {
     "base_uri": "https://localhost:8080/"
    },
    "id": "htk_TwGLXlcl",
    "outputId": "b6d2d4b3-0028-4f2f-f6d5-56334c504561"
   },
   "outputs": [
    {
     "data": {
      "text/plain": [
       "202    This movie literally had me rolling on the flo...\n",
       "158    This show is the uncollectible show ever! Norr...\n",
       "329    This is the best movie ever, but that is my op...\n",
       "453    Straight to video and with good reason. Its li...\n",
       "180    unity attended the premier last night. The mov...\n",
       "Name: sentence, dtype: object"
      ]
     },
     "execution_count": 20,
     "metadata": {
      "tags": []
     },
     "output_type": "execute_result"
    }
   ],
   "source": [
    "df_test['sentence'].head(5)"
   ]
  },
  {
   "cell_type": "markdown",
   "metadata": {
    "id": "-PV3Oo2hHW9d"
   },
   "source": [
    "# Model and prediction\n",
    "\n",
    "Load model and make predictions"
   ]
  },
  {
   "cell_type": "code",
   "execution_count": 21,
   "metadata": {
    "id": "_A9jRI67HY7x"
   },
   "outputs": [],
   "source": [
    "import pickle\n",
    "\n",
    "model = pickle.load(open('../imdb_classifier.pickle', \"rb\"))"
   ]
  },
  {
   "cell_type": "code",
   "execution_count": 22,
   "metadata": {
    "id": "IfdT4B1iHtBf"
   },
   "outputs": [],
   "source": [
    "predictions_raw = model.predict_proba(x_test)"
   ]
  },
  {
   "cell_type": "code",
   "execution_count": 23,
   "metadata": {
    "colab": {
     "base_uri": "https://localhost:8080/"
    },
    "id": "n1HV72U8HzSI",
    "outputId": "f467da10-17b2-4f20-adbb-81f25413069d"
   },
   "outputs": [
    {
     "data": {
      "text/plain": [
       "array([[0.57245183, 0.42754814],\n",
       "       [0.01826733, 0.98173267],\n",
       "       [0.9970494 , 0.00295064]], dtype=float32)"
      ]
     },
     "execution_count": 23,
     "metadata": {
      "tags": []
     },
     "output_type": "execute_result"
    }
   ],
   "source": [
    "predictions_raw[:3]"
   ]
  },
  {
   "cell_type": "code",
   "execution_count": 24,
   "metadata": {
    "id": "LheN7dV7IeyM"
   },
   "outputs": [],
   "source": [
    "predictions_raw = predictions_raw[:,1]"
   ]
  },
  {
   "cell_type": "code",
   "execution_count": 25,
   "metadata": {
    "id": "AfF2HNN3IndX"
   },
   "outputs": [],
   "source": [
    "predictions = predictions_raw.round()"
   ]
  },
  {
   "cell_type": "code",
   "execution_count": 26,
   "metadata": {
    "id": "iTLSBhdMH24K"
   },
   "outputs": [],
   "source": [
    "df_test['y_hat'] = predictions\n",
    "df_test['y_prob'] = predictions_raw\n",
    "df_test['y'] = y_test"
   ]
  },
  {
   "cell_type": "markdown",
   "metadata": {
    "id": "z7HZeFDYAZoH"
   },
   "source": [
    "# Metrics and errors\n",
    "\n",
    "Analyze the results"
   ]
  },
  {
   "cell_type": "code",
   "execution_count": 27,
   "metadata": {
    "colab": {
     "base_uri": "https://localhost:8080/"
    },
    "id": "XfiRCst4cidY",
    "outputId": "f7895a57-309f-404c-8b5b-7d964214a9c8"
   },
   "outputs": [
    {
     "data": {
      "text/plain": [
       "array([[222,  26],\n",
       "       [ 12, 240]])"
      ]
     },
     "execution_count": 27,
     "metadata": {
      "tags": []
     },
     "output_type": "execute_result"
    }
   ],
   "source": [
    "from sklearn.metrics import confusion_matrix\n",
    "confusion_matrix(y_test, predictions)"
   ]
  },
  {
   "cell_type": "code",
   "execution_count": 28,
   "metadata": {
    "colab": {
     "base_uri": "https://localhost:8080/"
    },
    "id": "pyIP6l488CYo",
    "outputId": "cb6bb0dd-8134-4b6a-ff68-92a37e51eac3"
   },
   "outputs": [
    {
     "name": "stdout",
     "output_type": "stream",
     "text": [
      "              precision    recall  f1-score   support\n",
      "\n",
      "         0.0      0.949     0.895     0.921       248\n",
      "         1.0      0.902     0.952     0.927       252\n",
      "\n",
      "    accuracy                          0.924       500\n",
      "   macro avg      0.925     0.924     0.924       500\n",
      "weighted avg      0.925     0.924     0.924       500\n",
      "\n"
     ]
    }
   ],
   "source": [
    "from sklearn.metrics import classification_report\n",
    "print(classification_report(y_test, predictions, digits=3))"
   ]
  },
  {
   "cell_type": "code",
   "execution_count": 29,
   "metadata": {
    "colab": {
     "base_uri": "https://localhost:8080/",
     "height": 445
    },
    "id": "BMtuez3LVVh4",
    "outputId": "8f233eaf-741e-450e-c4a3-ee8850dc75f3"
   },
   "outputs": [
    {
     "data": {
      "text/plain": [
       "<matplotlib.axes._subplots.AxesSubplot at 0x7efe0ccec350>"
      ]
     },
     "execution_count": 29,
     "metadata": {
      "tags": []
     },
     "output_type": "execute_result"
    },
    {
     "data": {
      "image/png": "[encoded data removed]",
      "text/plain": [
       "<Figure size 720x504 with 2 Axes>"
      ]
     },
     "metadata": {
      "needs_background": "light",
      "tags": []
     },
     "output_type": "display_data"
    }
   ],
   "source": [
    "import matplotlib.pyplot as plt\n",
    "import seaborn as sn\n",
    "plt.figure(figsize = (10,7))\n",
    "sn.heatmap(confusion_matrix(y_test, predictions), annot=True, cmap='Blues', fmt='g',  annot_kws={\"fontsize\":24})"
   ]
  },
  {
   "cell_type": "markdown",
   "metadata": {
    "id": "r6zM88SzJV0m"
   },
   "source": [
    "# Shifting cutoff\n",
    "\n",
    "We tried different values for the decision cutoff value to see whether we could further increase adversarial recall."
   ]
  },
  {
   "cell_type": "code",
   "execution_count": 31,
   "metadata": {
    "id": "Gz__4eHAgtBn"
   },
   "outputs": [],
   "source": [
    "new_y_hat = np.where(predictions_raw>0.4, 1, 0)"
   ]
  },
  {
   "cell_type": "code",
   "execution_count": 32,
   "metadata": {
    "colab": {
     "base_uri": "https://localhost:8080/"
    },
    "id": "YC224mFZhDmL",
    "outputId": "761e4e06-9da0-433b-a12d-74dc3fd1b0af"
   },
   "outputs": [
    {
     "data": {
      "text/plain": [
       "array([1, 1, 0, 0, 1, 0, 0, 1, 0, 1])"
      ]
     },
     "execution_count": 32,
     "metadata": {
      "tags": []
     },
     "output_type": "execute_result"
    }
   ],
   "source": [
    "new_y_hat[:10]"
   ]
  },
  {
   "cell_type": "code",
   "execution_count": 33,
   "metadata": {
    "colab": {
     "base_uri": "https://localhost:8080/",
     "height": 445
    },
    "id": "R_-geDqBhLET",
    "outputId": "92abb253-6186-4564-ec93-f35ac1204cb5"
   },
   "outputs": [
    {
     "data": {
      "text/plain": [
       "<matplotlib.axes._subplots.AxesSubplot at 0x7efe0c44e1d0>"
      ]
     },
     "execution_count": 33,
     "metadata": {
      "tags": []
     },
     "output_type": "execute_result"
    },
    {
     "data": {
      "image/png": "[encoded data removed]",
      "text/plain": [
       "<Figure size 720x504 with 2 Axes>"
      ]
     },
     "metadata": {
      "needs_background": "light",
      "tags": []
     },
     "output_type": "display_data"
    }
   ],
   "source": [
    "import matplotlib.pyplot as plt\n",
    "import seaborn as sn\n",
    "plt.figure(figsize = (10,7))\n",
    "sn.heatmap(confusion_matrix(y_test, new_y_hat), annot=True, cmap='Blues', fmt='g',  annot_kws={\"fontsize\":24})"
   ]
  },
  {
   "cell_type": "code",
   "execution_count": 34,
   "metadata": {
    "colab": {
     "base_uri": "https://localhost:8080/"
    },
    "id": "smvsakGNhL7v",
    "outputId": "f3cac63a-94de-42cf-d78d-fd1432128a3e"
   },
   "outputs": [
    {
     "name": "stdout",
     "output_type": "stream",
     "text": [
      "              precision    recall  f1-score   support\n",
      "\n",
      "         0.0      0.960     0.875     0.916       248\n",
      "         1.0      0.887     0.964     0.924       252\n",
      "\n",
      "    accuracy                          0.920       500\n",
      "   macro avg      0.924     0.920     0.920       500\n",
      "weighted avg      0.923     0.920     0.920       500\n",
      "\n"
     ]
    }
   ],
   "source": [
    "from sklearn.metrics import classification_report\n",
    "print(classification_report(y_test, new_y_hat, digits=3))"
   ]
  },
  {
   "cell_type": "markdown",
   "metadata": {
    "id": "XeApkl6cJcKK"
   },
   "source": [
    "### 0.3"
   ]
  },
  {
   "cell_type": "code",
   "execution_count": 35,
   "metadata": {
    "id": "fyoUhwyBiAYi"
   },
   "outputs": [],
   "source": [
    "new_y_hat = np.where(predictions_raw>0.3, 1, 0)"
   ]
  },
  {
   "cell_type": "code",
   "execution_count": 36,
   "metadata": {
    "colab": {
     "base_uri": "https://localhost:8080/"
    },
    "id": "JN3cU2RfiAYi",
    "outputId": "32831a25-c1c2-4f36-a9f0-652dd7b237e3"
   },
   "outputs": [
    {
     "data": {
      "text/plain": [
       "array([1, 1, 0, 0, 1, 0, 1, 1, 0, 1])"
      ]
     },
     "execution_count": 36,
     "metadata": {
      "tags": []
     },
     "output_type": "execute_result"
    }
   ],
   "source": [
    "new_y_hat[:10]"
   ]
  },
  {
   "cell_type": "code",
   "execution_count": 37,
   "metadata": {
    "colab": {
     "base_uri": "https://localhost:8080/",
     "height": 445
    },
    "id": "5eKQwbVIiAYk",
    "outputId": "7dafcafb-b38f-4137-9860-308c886624c9"
   },
   "outputs": [
    {
     "data": {
      "text/plain": [
       "<matplotlib.axes._subplots.AxesSubplot at 0x7efe03358f90>"
      ]
     },
     "execution_count": 37,
     "metadata": {
      "tags": []
     },
     "output_type": "execute_result"
    },
    {
     "data": {
      "image/png": "[encoded data removed]",
      "text/plain": [
       "<Figure size 720x504 with 2 Axes>"
      ]
     },
     "metadata": {
      "needs_background": "light",
      "tags": []
     },
     "output_type": "display_data"
    }
   ],
   "source": [
    "import matplotlib.pyplot as plt\n",
    "import seaborn as sn\n",
    "plt.figure(figsize = (10,7))\n",
    "sn.heatmap(confusion_matrix(y_test, new_y_hat), annot=True, cmap='Blues', fmt='g',  annot_kws={\"fontsize\":24})"
   ]
  },
  {
   "cell_type": "code",
   "execution_count": 38,
   "metadata": {
    "colab": {
     "base_uri": "https://localhost:8080/"
    },
    "id": "ut13af-WiAYl",
    "outputId": "509268a8-2d83-4202-edf7-f1999117052d"
   },
   "outputs": [
    {
     "name": "stdout",
     "output_type": "stream",
     "text": [
      "              precision    recall  f1-score   support\n",
      "\n",
      "         0.0      0.973     0.859     0.912       248\n",
      "         1.0      0.875     0.976     0.923       252\n",
      "\n",
      "    accuracy                          0.918       500\n",
      "   macro avg      0.924     0.918     0.918       500\n",
      "weighted avg      0.924     0.918     0.918       500\n",
      "\n"
     ]
    }
   ],
   "source": [
    "from sklearn.metrics import classification_report\n",
    "print(classification_report(y_test, new_y_hat, digits=3))"
   ]
  },
  {
   "cell_type": "markdown",
   "metadata": {
    "id": "9qZ_LXtgJh94"
   },
   "source": [
    "### 0.15"
   ]
  },
  {
   "cell_type": "code",
   "execution_count": 39,
   "metadata": {
    "id": "UfAm5D1bjG3X"
   },
   "outputs": [],
   "source": [
    "new_y_hat = np.where(predictions_raw>0.15, 1, 0)"
   ]
  },
  {
   "cell_type": "code",
   "execution_count": 40,
   "metadata": {
    "colab": {
     "base_uri": "https://localhost:8080/"
    },
    "id": "yhPODTkVjG3a",
    "outputId": "a7a7dabc-a7e8-485b-bae8-899f76de71dc"
   },
   "outputs": [
    {
     "data": {
      "text/plain": [
       "array([1, 1, 0, 0, 1, 0, 1, 1, 0, 1])"
      ]
     },
     "execution_count": 40,
     "metadata": {
      "tags": []
     },
     "output_type": "execute_result"
    }
   ],
   "source": [
    "new_y_hat[:10]"
   ]
  },
  {
   "cell_type": "code",
   "execution_count": 41,
   "metadata": {
    "colab": {
     "base_uri": "https://localhost:8080/",
     "height": 445
    },
    "id": "MWf3EfjFjG3c",
    "outputId": "b5898646-1f0b-4461-c953-73bca5ad5532"
   },
   "outputs": [
    {
     "data": {
      "text/plain": [
       "<matplotlib.axes._subplots.AxesSubplot at 0x7efe0c4ad750>"
      ]
     },
     "execution_count": 41,
     "metadata": {
      "tags": []
     },
     "output_type": "execute_result"
    },
    {
     "data": {
      "image/png": "[encoded data removed]",
      "text/plain": [
       "<Figure size 720x504 with 2 Axes>"
      ]
     },
     "metadata": {
      "needs_background": "light",
      "tags": []
     },
     "output_type": "display_data"
    }
   ],
   "source": [
    "import matplotlib.pyplot as plt\n",
    "import seaborn as sn\n",
    "plt.figure(figsize = (10,7))\n",
    "sn.heatmap(confusion_matrix(y_test, new_y_hat), annot=True, cmap='Blues', fmt='g',  annot_kws={\"fontsize\":24})"
   ]
  },
  {
   "cell_type": "code",
   "execution_count": 42,
   "metadata": {
    "colab": {
     "base_uri": "https://localhost:8080/"
    },
    "id": "wfi0qsfwjG3d",
    "outputId": "705cbc5d-85dc-456c-86d6-955d232757af"
   },
   "outputs": [
    {
     "name": "stdout",
     "output_type": "stream",
     "text": [
      "              precision    recall  f1-score   support\n",
      "\n",
      "         0.0      0.981     0.823     0.895       248\n",
      "         1.0      0.849     0.984     0.912       252\n",
      "\n",
      "    accuracy                          0.904       500\n",
      "   macro avg      0.915     0.903     0.903       500\n",
      "weighted avg      0.915     0.904     0.903       500\n",
      "\n"
     ]
    }
   ],
   "source": [
    "from sklearn.metrics import classification_report\n",
    "print(classification_report(y_test, new_y_hat, digits=3))"
   ]
  },
  {
   "cell_type": "markdown",
   "metadata": {
    "id": "LLDuWG8mHJ_q"
   },
   "source": [
    "# Density chart"
   ]
  },
  {
   "cell_type": "code",
   "execution_count": 43,
   "metadata": {
    "colab": {
     "base_uri": "https://localhost:8080/",
     "height": 542
    },
    "id": "K_xawsJjF6BU",
    "outputId": "fa3823a6-aaa0-4e5d-ba64-b9d93efb5f77"
   },
   "outputs": [
    {
     "data": {
      "text/html": [
       "<html>\n",
       "<head><meta charset=\"utf-8\" /></head>\n",
       "<body>\n",
       "    <div>\n",
       "            <script src=\"https://cdnjs.cloudflare.com/ajax/libs/mathjax/2.7.5/MathJax.js?config=TeX-AMS-MML_SVG\"></script><script type=\"text/javascript\">if (window.MathJax) {MathJax.Hub.Config({SVG: {font: \"STIX-Web\"}});}</script>\n",
       "                <script type=\"text/javascript\">window.PlotlyConfig = {MathJaxConfig: 'local'};</script>\n",
       "        <script src=\"https://cdn.plot.ly/plotly-latest.min.js\"></script>    \n",
       "            <div id=\"0fe05215-98cb-432e-9ee4-c74247e0602f\" class=\"plotly-graph-div\" style=\"height:525px; width:100%;\"></div>\n",
       "            <script type=\"text/javascript\">\n",
       "                \n",
       "                    window.PLOTLYENV=window.PLOTLYENV || {};\n",
       "                    \n",
       "                if (document.getElementById(\"0fe05215-98cb-432e-9ee4-c74247e0602f\")) {\n",
       "                    Plotly.newPlot(\n",
       "                        '0fe05215-98cb-432e-9ee4-c74247e0602f',\n",
       "                        [{\"legendgroup\": \"Adversarial\", \"marker\": {\"color\": \"#C04000\"}, \"mode\": \"lines\", \"name\": \"Adversarial\", \"showlegend\": true, \"type\": \"scatter\", \"x\": [0.0059089092537760735, 0.007883903788402678, 0.00985889832302928, 0.011833892857655882, 0.013808887392282487, 0.01578388192690909, 0.01775887646153569, 0.019733870996162296, 0.0217088655307889, 0.0236838600654155, 0.025658854600042105, 0.02763384913466871, 0.02960884366929531, 0.03158383820392191, 0.03355883273854852, 0.035533827273175125, 0.037508821807801726, 0.03948381634242833, 0.04145881087705493, 0.043433805411681535, 0.045408799946308136, 0.047383794480934736, 0.049358789015561344, 0.051333783550187945, 0.053308778084814545, 0.05528377261944115, 0.057258767154067754, 0.05923376168869436, 0.06120875622332096, 0.06318375075794756, 0.06515874529257418, 0.06713373982720078, 0.06910873436182738, 0.07108372889645398, 0.07305872343108058, 0.07503371796570718, 0.07700871250033378, 0.0789837070349604, 0.080958701569587, 0.0829336961042136, 0.0849086906388402, 0.0868836851734668, 0.0888586797080934, 0.09083367424272001, 0.09280866877734661, 0.09478366331197322, 0.09675865784659982, 0.09873365238122642, 0.10070864691585302, 0.10268364145047963, 0.10465863598510623, 0.10663363051973283, 0.10860862505435943, 0.11058361958898603, 0.11255861412361265, 0.11453360865823925, 0.11650860319286585, 0.11848359772749245, 0.12045859226211905, 0.12243358679674565, 0.12440858133137227, 0.12638357586599885, 0.12835857040062548, 0.13033356493525206, 0.13230855946987868, 0.13428355400450528, 0.13625854853913189, 0.13823354307375849, 0.1402085376083851, 0.1421835321430117, 0.1441585266776383, 0.1461335212122649, 0.1481085157468915, 0.1500835102815181, 0.15205850481614472, 0.15403349935077132, 0.15600849388539792, 0.15798348842002452, 0.15995848295465112, 0.16193347748927772, 0.16390847202390432, 0.16588346655853092, 0.16785846109315752, 0.16983345562778412, 0.17180845016241073, 0.17378344469703733, 0.17575843923166395, 0.17773343376629056, 0.17970842830091716, 0.18168342283554376, 0.18365841737017036, 0.18563341190479696, 0.18760840643942356, 0.18958340097405016, 0.19155839550867676, 0.19353339004330336, 0.19550838457792996, 0.1974833791125566, 0.1994583736471832, 0.2014333681818098, 0.2034083627164364, 0.205383357251063, 0.2073583517856896, 0.2093333463203162, 0.2113083408549428, 0.2132833353895694, 0.215258329924196, 0.2172333244588226, 0.21920831899344922, 0.22118331352807583, 0.22315830806270243, 0.22513330259732903, 0.22710829713195563, 0.22908329166658223, 0.23105828620120883, 0.23303328073583543, 0.23500827527046203, 0.23698326980508863, 0.23895826433971523, 0.24093325887434183, 0.24290825340896846, 0.24488324794359506, 0.24685824247822166, 0.24883323701284826, 0.2508082315474749, 0.25278322608210146, 0.25475822061672804, 0.25673321515135467, 0.2587082096859813, 0.26068320422060787, 0.2626581987552345, 0.26463319328986107, 0.2666081878244877, 0.26858318235911427, 0.2705581768937409, 0.27253317142836747, 0.2745081659629941, 0.27648316049762073, 0.2784581550322473, 0.28043314956687393, 0.2824081441015005, 0.28438313863612713, 0.2863581331707537, 0.28833312770538033, 0.2903081222400069, 0.29228311677463353, 0.2942581113092601, 0.29623310584388673, 0.29820810037851336, 0.30018309491313994, 0.30215808944776656, 0.30413308398239314, 0.30610807851701977, 0.30808307305164634, 0.31005806758627297, 0.31203306212089954, 0.31400805665552617, 0.31598305119015274, 0.31795804572477937, 0.31993304025940594, 0.32190803479403257, 0.3238830293286592, 0.3258580238632858, 0.3278330183979124, 0.329808012932539, 0.3317830074671656, 0.3337580020017922, 0.3357329965364188, 0.3377079910710454, 0.339682985605672, 0.3416579801402986, 0.3436329746749252, 0.34560796920955184, 0.3475829637441784, 0.34955795827880504, 0.3515329528134316, 0.35350794734805824, 0.3554829418826848, 0.35745793641731144, 0.359432930951938, 0.36140792548656464, 0.3633829200211912, 0.36535791455581784, 0.36733290909044447, 0.36930790362507104, 0.37128289815969767, 0.37325789269432424, 0.3752328872289509, 0.37720788176357745, 0.3791828762982041, 0.38115787083283065, 0.3831328653674573, 0.38510785990208385, 0.3870828544367105, 0.3890578489713371, 0.3910328435059637, 0.3930078380405903, 0.3949828325752169, 0.3969578271098435, 0.3989328216444701, 0.4009078161790967, 0.4028828107137233, 0.4048578052483499, 0.4068327997829765, 0.4088077943176031, 0.41078278885222974, 0.4127577833868563, 0.41473277792148294, 0.4167077724561095, 0.41868276699073614, 0.4206577615253627, 0.42263275605998935, 0.4246077505946159, 0.42658274512924255, 0.4285577396638691, 0.43053273419849575, 0.4325077287331224, 0.43448272326774895, 0.4364577178023756, 0.43843271233700215, 0.4404077068716288, 0.44238270140625535, 0.444357695940882, 0.44633269047550855, 0.4483076850101352, 0.45028267954476175, 0.4522576740793884, 0.45423266861401496, 0.4562076631486416, 0.4581826576832682, 0.4601576522178948, 0.4621326467525214, 0.464107641287148, 0.4660826358217746, 0.4680576303564012, 0.4700326248910278, 0.4720076194256544, 0.473982613960281, 0.4759576084949076, 0.4779326030295342, 0.47990759756416085, 0.4818825920987874, 0.48385758663341405, 0.4858325811680406, 0.48780757570266725, 0.4897825702372938, 0.49175756477192045, 0.493732559306547, 0.49570755384117365, 0.4976825483758002, 0.49965754291042686, 0.5016325374450534, 0.50360753197968, 0.5055825265143067, 0.5075575210489333, 0.5095325155835598, 0.5115075101181865, 0.5134825046528131, 0.5154574991874397, 0.5174324937220662, 0.5194074882566929, 0.5213824827913195, 0.5233574773259461, 0.5253324718605727, 0.5273074663951993, 0.5292824609298259, 0.5312574554644525, 0.5332324499990791, 0.5352074445337057, 0.5371824390683323, 0.5391574336029589, 0.5411324281375856, 0.5431074226722121, 0.5450824172068387, 0.5470574117414654, 0.549032406276092, 0.5510074008107185, 0.5529823953453451, 0.5549573898799718, 0.5569323844145984, 0.5589073789492249, 0.5608823734838515, 0.5628573680184782, 0.5648323625531048, 0.5668073570877313, 0.568782351622358, 0.5707573461569846, 0.5727323406916112, 0.5747073352262377, 0.5766823297608644, 0.578657324295491, 0.5806323188301176, 0.5826073133647441, 0.5845823078993708, 0.5865573024339974, 0.588532296968624, 0.5905072915032507, 0.5924822860378772, 0.5944572805725038, 0.5964322751071304, 0.5984072696417571, 0.6003822641763836, 0.6023572587110102, 0.6043322532456368, 0.6063072477802635, 0.60828224231489, 0.6102572368495166, 0.6122322313841433, 0.6142072259187699, 0.6161822204533964, 0.618157214988023, 0.6201322095226497, 0.6221072040572763, 0.6240821985919028, 0.6260571931265294, 0.6280321876611561, 0.6300071821957827, 0.6319821767304092, 0.6339571712650358, 0.6359321657996625, 0.6379071603342891, 0.6398821548689156, 0.6418571494035423, 0.6438321439381689, 0.6458071384727955, 0.647782133007422, 0.6497571275420487, 0.6517321220766753, 0.6537071166113019, 0.6556821111459284, 0.6576571056805551, 0.6596321002151817, 0.6616070947498083, 0.663582089284435, 0.6655570838190615, 0.6675320783536881, 0.6695070728883147, 0.6714820674229414, 0.6734570619575679, 0.6754320564921945, 0.6774070510268211, 0.6793820455614478, 0.6813570400960743, 0.6833320346307009, 0.6853070291653276, 0.6872820236999542, 0.6892570182345807, 0.6912320127692073, 0.693207007303834, 0.6951820018384606, 0.6971569963730871, 0.6991319909077137, 0.7011069854423404, 0.703081979976967, 0.7050569745115935, 0.7070319690462202, 0.7090069635808468, 0.7109819581154734, 0.7129569526501, 0.7149319471847266, 0.7169069417193532, 0.7188819362539798, 0.7208569307886064, 0.722831925323233, 0.7248069198578596, 0.7267819143924862, 0.7287569089271129, 0.7307319034617394, 0.732706897996366, 0.7346818925309926, 0.7366568870656193, 0.7386318816002458, 0.7406068761348724, 0.742581870669499, 0.7445568652041257, 0.7465318597387522, 0.7485068542733788, 0.7504818488080055, 0.7524568433426321, 0.7544318378772586, 0.7564068324118852, 0.7583818269465119, 0.7603568214811385, 0.762331816015765, 0.7643068105503916, 0.7662818050850183, 0.7682567996196449, 0.7702317941542715, 0.7722067886888981, 0.7741817832235247, 0.7761567777581513, 0.7781317722927779, 0.7801067668274045, 0.7820817613620311, 0.7840567558966577, 0.7860317504312843, 0.7880067449659109, 0.7899817395005375, 0.7919567340351641, 0.7939317285697908, 0.7959067231044173, 0.7978817176390439, 0.7998567121736705, 0.8018317067082972, 0.8038067012429237, 0.8057816957775503, 0.8077566903121769, 0.8097316848468036, 0.8117066793814302, 0.8136816739160567, 0.8156566684506834, 0.81763166298531, 0.8196066575199366, 0.8215816520545631, 0.8235566465891898, 0.8255316411238164, 0.827506635658443, 0.8294816301930695, 0.8314566247276962, 0.8334316192623228, 0.8354066137969494, 0.837381608331576, 0.8393566028662026, 0.8413315974008292, 0.8433065919354558, 0.8452815864700824, 0.847256581004709, 0.8492315755393356, 0.8512065700739622, 0.8531815646085888, 0.8551565591432154, 0.857131553677842, 0.8591065482124687, 0.8610815427470953, 0.8630565372817218, 0.8650315318163484, 0.8670065263509751, 0.8689815208856017, 0.8709565154202282, 0.8729315099548548, 0.8749065044894815, 0.8768814990241081, 0.8788564935587346, 0.8808314880933612, 0.8828064826279879, 0.8847814771626145, 0.886756471697241, 0.8887314662318677, 0.8907064607664943, 0.8926814553011209, 0.8946564498357474, 0.8966314443703741, 0.8986064389050007, 0.9005814334396273, 0.9025564279742538, 0.9045314225088805, 0.9065064170435071, 0.9084814115781337, 0.9104564061127604, 0.9124314006473869, 0.9144063951820135, 0.9163813897166401, 0.9183563842512668, 0.9203313787858933, 0.9223063733205199, 0.9242813678551465, 0.9262563623897732, 0.9282313569243997, 0.9302063514590263, 0.932181345993653, 0.9341563405282796, 0.9361313350629061, 0.9381063295975327, 0.9400813241321594, 0.942056318666786, 0.9440313132014125, 0.9460063077360391, 0.9479813022706658, 0.9499562968052924, 0.9519312913399189, 0.9539062858745456, 0.9558812804091722, 0.9578562749437988, 0.9598312694784253, 0.961806264013052, 0.9637812585476786, 0.9657562530823052, 0.9677312476169317, 0.9697062421515584, 0.971681236686185, 0.9736562312208116, 0.9756312257554383, 0.9776062202900648, 0.9795812148246914, 0.981556209359318, 0.9835312038939447, 0.9855061984285712, 0.9874811929631978, 0.9894561874978244, 0.9914311820324511], \"xaxis\": \"x\", \"y\": [0.05413681103164784, 0.05535502549537669, 0.05656842909655402, 0.05777605190334229, 0.05897691619284463, 0.060170033835976244, 0.06135440355542356, 0.06252900810913531, 0.06369281145523882, 0.06484475595709566, 0.06598375968934096, 0.0671087139071442, 0.06821848074154167, 0.06931189118349074, 0.07038774341826036, 0.07144480156988814, 0.07248179491269964, 0.07349741760331034, 0.0744903289821349, 0.07545915448824156, 0.07640248722545764, 0.07731889021100517, 0.07820689933068696, 0.0790650270168299, 0.07989176665689846, 0.08068559773201552, 0.08144499167565951, 0.0821684184336539, 0.08285435369733285, 0.08350128677256759, 0.08410772903828297, 0.08467222293930077, 0.08519335144992461, 0.08566974793674394, 0.08610010634178998, 0.08648319160052606, 0.08681785020329315, 0.08710302080385168, 0.08733774477463517, 0.08752117660533622, 0.08765259403953324, 0.08773140784328588, 0.0877571711000093, 0.08772958792750306, 0.08764852151576351, 0.08751400138813942, 0.08732622979347875, 0.08708558714311676, 0.08679263641382626, 0.08644812644611949, 0.08605299407648218, 0.0856083650521414, 0.08511555368772121, 0.08457606123450817, 0.08399157294491605, 0.08336395382697648, 0.08269524309615549, 0.08198764734437133, 0.08124353245862155, 0.08046541433398263, 0.07965594843777955, 0.07881791829330216, 0.0779542229624355, 0.07706786361685071, 0.07616192929684873, 0.07523958196545753, 0.07430404097285255, 0.0733585670525178, 0.07240644597571401, 0.07145097199471663, 0.07049543120788103, 0.06954308498085861, 0.06859715355821115, 0.06766079999825252, 0.06673711456120535, 0.06582909967672555, 0.0649396556115698, 0.06407156695171681, 0.06322749000568066, 0.062409941227155936, 0.06162128674560888, 0.06086373308308104, 0.060139319124417216, 0.05944990939648734, 0.05879718869986957, 0.058182658124027654, 0.05760763246437849, 0.057073239046942045, 0.05658041795361741, 0.05612992362866887, 0.05572232783485263, 0.05535802391588583, 0.05503723231076404, 0.0547600072548723, 0.05452624459300025, 0.05433569062034735, 0.05418795185945906, 0.0540825056738336, 0.054018711612728025, 0.05399582337651251, 0.054013001287799504, 0.05406932515052509, 0.0541638073771903, 0.054295406263573445, 0.05446303929038733, 0.05466559633255246, 0.05490195265895709, 0.0551709816087369, 0.0554715668341854, 0.055802614005345204, 0.056163061877077626, 0.05655189262589505, 0.056968141371008314, 0.05741090480181584, 0.05787934884238049, 0.058372715292222446, 0.05889032739194274, 0.05943159427169862, 0.05999601425031763, 0.06058317696278342, 0.061192764303888224, 0.06182455018595367, 0.0624783991186062, 0.06315426362858828, 0.06385218054743132, 0.06457226620443922, 0.06531471057178055, 0.06607977041749065, 0.06686776153079275, 0.06767905009229154, 0.06851404326922458, 0.06937317912301143, 0.07025691592277297, 0.07116572096423944, 0.07210005899848713, 0.07306038037917789, 0.07404710904039158, 0.07506063041968299, 0.07610127944263385, 0.07716932868586861, 0.07826497683522947, 0.07938833755454686, 0.08053942887817078, 0.08171816323714659, 0.0829243382246232, 0.08415762820078025, 0.08541757683127685, 0.0867035906459847, 0.08801493369661445, 0.08935072338282647, 0.09070992750659915, 0.09209136260408284, 0.09349369359297907, 0.09491543476174727, 0.09635495211476422, 0.09781046707504851, 0.09928006153344793, 0.10076168422038871, 0.10225315836354419, 0.103752190582229, 0.10525638095710602, 0.10676323420204595, 0.10827017185384309, 0.10977454538509544, 0.11127365013604149, 0.11276473995262007, 0.11424504241060014, 0.11571177449942083, 0.11716215863445575, 0.11859343886287159, 0.12000289712610844, 0.12138786944134054, 0.12274576186507566, 0.12407406610433226, 0.12537037464457368, 0.1266323952687362, 0.12785796484821174, 0.12904506229445165, 0.13019182056885628, 0.1312965376586941, 0.13235768643782447, 0.13337392334284456, 0.1343440958077899, 0.13526724841352464, 0.13614262772130817, 0.13696968577352706, 0.13774808225807963, 0.13847768534621438, 0.13915857122657657, 0.1397910223706611, 0.14037552457662825, 0.14091276284938958, 0.14140361618485653, 0.1418491513351669, 0.14225061563945318, 0.1426094290112024, 0.14292717517842887, 0.14320559227667728, 0.14344656289727967, 0.14365210369429549, 0.1438243546531846, 0.14396556812253405, 0.1440780977071338, 0.1441643871164464, 0.1442269590571246, 0.14426840425181114, 0.14429137065911152, 0.1442985529614988, 0.144292682379126, 0.1442765168582254, 0.14425283167312125, 0.14422441047102158, 0.14419403677883544, 0.14416448598144949, 0.14413851777131437, 0.144118869060014, 0.14410824733381494, 0.14410932442718374, 0.14412473068099946, 0.14415704944579966, 0.1442088118849685, 0.14428249202837193, 0.14438050202363828, 0.14450518753012118, 0.14465882319958165, 0.1448436081878225, 0.1450616616428828, 0.14531501811795203, 0.14560562286084527, 0.1459353269366675, 0.14630588214610354, 0.14671893570855227, 0.14717602468697288, 0.14767857013975003, 0.14822787099398713, 0.14882509764431198, 0.1494712852913778, 0.15016732704465013, 0.15091396682464886, 0.151711792110415, 0.15256122658846016, 0.15346252276968067, 0.15441575465053792, 0.15542081050406226, 0.15647738589481033, 0.15758497701963278, 0.158742874482863, 0.15995015762020573, 0.16120568949003636, 0.16250811265394124, 0.16385584587000115, 0.1652470818225003, 0.16667978601030026, 0.16815169691306137, 0.16966032754971108, 0.1712029685370846, 0.17277669274844829, 0.17437836166168824, 0.17600463347535802, 0.17765197305753022, 0.1793166637776252, 0.18099482125515395, 0.1826824090417214, 0.18437525623386308, 0.18606907699446587, 0.18775949193983, 0.18944205132807235, 0.1911122599627661, 0.19276560370365745, 0.19439757745429295, 0.1960037144746163, 0.1975796168453698, 0.1991209868906989, 0.20062365934596826, 0.20208363403975732, 0.20349710884253205, 0.20486051261987384, 0.20617053791561113, 0.2074241730799853, 0.20861873355028854, 0.20975189198643598, 0.21082170696183322, 0.21182664991081823, 0.21276563003799337, 0.213638016901991, 0.2144436603966797, 0.2151829078665164, 0.21585661810964452, 0.21646617204236332, 0.21701347982162686, 0.21750098424813905, 0.21793166030118225, 0.21830901068735986, 0.21863705731865316, 0.21892032867034222, 0.21916384300605743, 0.21937308749520903, 0.21955399328688302, 0.21971290664364657, 0.2198565562781223, 0.21999201707432903, 0.22012667041415204, 0.22026816136655558, 0.22042435303281935, 0.22060327837480145, 0.22081308988459228, 0.2210620074825702, 0.22135826505644762, 0.22171005607609526, 0.22212547873743488, 0.22261248110329596, 0.22317880671956009, 0.22383194119104385, 0.22457906020323956, 0.2254269794731455, 0.2263821071049747, 0.22745039881447024, 0.22863731646899577, 0.22994779036956745, 0.231386185675702, 0.23295627334456862, 0.23466120592268802, 0.2365034984915684, 0.23848501502855055, 0.24060696040106624, 0.24286987816689393, 0.24527365430522816, 0.24781752695388046, 0.25050010217716456, 0.25331937573744084, 0.2562727607913952, 0.25935712138036604, 0.26256881153292194, 0.265903719747879, 0.2693573185775413, 0.27292471898457615, 0.2766007291020654, 0.2803799169853225, 0.2842566769064201, 0.2882252987084149, 0.29228003970633193, 0.29641519859633836, 0.3006251908135227, 0.30490462476248054, 0.3092483783336405, 0.313651675112194, 0.3181101596855516, 0.3226199714596034, 0.32717781640365184, 0.33178103615863513, 0.33642767396314127, 0.3411165368764728, 0.3458472538075806, 0.35062032889268074, 0.35543718980264843, 0.3603002306034058, 0.36521284883819694, 0.3701794765494938, 0.375205605009784, 0.38029780298432475, 0.38546372840452686, 0.39071213338752375, 0.39605286259512706, 0.4014968449833097, 0.4070560790509498, 0.41274361175341717, 0.41857351130201864, 0.4245608341239128, 0.43072158630829416, 0.437072679912919, 0.4436318845499633, 0.4504177747112583, 0.4574496733297367, 0.46474759210604805, 0.47233216915635984, 0.4802246045590844, 0.48844659439431626, 0.49702026387994336, 0.5059681002124311, 0.5153128857181876, 0.525077631912848, 0.535285515051043, 0.5459598137279444, 0.5571238490664359, 0.5688009279900413, 0.5810142900421394, 0.5937870581665408, 0.6071421938136722, 0.6211024566805641, 0.6356903693321211, 0.6509281868861339, 0.6668378718756334, 0.6834410743301397, 0.7007591170425509, 0.7188129859116814, 0.7376233251721724, 0.7572104372446713, 0.7775942868603174, 0.7987945090355055, 0.8208304203963956, 0.8437210332785183, 0.867485071955871, 0.8921409902868688, 0.9177069900023503, 0.9442010388041975, 0.9716408873929433, 1.0000440844996443, 1.0294279889622089, 1.0598097778598767, 1.0912064497023477, 1.1236348216628977, 1.1571115198480537, 1.1916529616109364, 1.227275328941039, 1.2639945320010977, 1.3018261619314877, 1.3407854321048296, 1.3808871070879825, 1.4221454186556752, 1.464573968299124, 1.5081856157842102, 1.552992353436434, 1.5990051659636786, 1.6462338757719077, 1.694686973882603, 1.7443714367230347, 1.7952925292303072, 1.8474535948862674, 1.9008558334813466, 1.9554980675899916, 2.0113764989266567, 2.0684844559376514, 2.1268121341689485, 2.1863463311308484, 2.2470701775557838, 2.308962867112976, 2.3719993868012206, 2.4361502503866883, 2.5013812373839945, 2.5676531401938507, 2.634921522107447, 2.703136488963981, 2.772242477302166, 2.8421780618764694, 2.912875785413684, 2.984262013462887, 3.0562568171414557, 3.128773886499812, 3.2017204771182723, 3.2749973924093174, 3.3484990039284623, 3.4221133117965357, 3.495722047106233, 3.5692008179271633, 3.6424193002375507, 3.715241474799003, 3.787525910655076, 3.859126095577443, 3.9298908134074755, 3.99966456784964, 4.068288051869117, 4.135598661432827, 4.201431051915844, 4.265617735075459, 4.3279897140803145, 4.388377153673415, 4.446610082152164, 4.502519121468702, 4.5559362413954325, 4.606695533366814, 4.654633999304664, 4.699592350463687, 4.741415811100127, 4.7799549215743165, 4.815066335348619, 4.846613604239788, 4.87446794623155, 4.898508990149725, 4.918625491551134, 4.934716014278847, 4.94668957229012, 4.954466226569515, 4.957977632196955, 4.957167530947277, 4.951992185151595, 4.942420748949654, 4.928435573501452, 4.91003244320357, 4.887220740465141, 4.860023537136109, 4.828477611241518, 4.792633388253361, 4.752554806722065, 4.708319108685214, 4.660016555867227, 4.607750073273185, 4.55163482235754, 4.491797706507607, 4.428376812117596, 4.3615207890347225], \"yaxis\": \"y\"}, {\"legendgroup\": \"Original\", \"marker\": {\"color\": \"#228B22\"}, \"mode\": \"lines\", \"name\": \"Original\", \"showlegend\": true, \"type\": \"scatter\", \"x\": [0.0024014944210648537, 0.0043825091030448675, 0.006363523785024881, 0.008344538467004895, 0.010325553148984909, 0.012306567830964923, 0.014287582512944937, 0.01626859719492495, 0.018249611876904964, 0.020230626558884978, 0.022211641240864992, 0.024192655922845006, 0.02617367060482502, 0.028154685286805033, 0.030135699968785047, 0.03211671465076506, 0.034097729332745075, 0.03607874401472509, 0.0380597586967051, 0.04004077337868512, 0.04202178806066513, 0.04400280274264515, 0.04598381742462516, 0.047964832106605175, 0.049945846788585185, 0.0519268614705652, 0.05390787615254521, 0.05588889083452523, 0.05786990551650524, 0.05985092019848526, 0.06183193488046527, 0.06381294956244529, 0.0657939642444253, 0.06777497892640531, 0.06975599360838533, 0.07173700829036533, 0.07371802297234535, 0.07569903765432537, 0.07768005233630539, 0.07966106701828539, 0.0816420817002654, 0.08362309638224542, 0.08560411106422544, 0.08758512574620544, 0.08956614042818546, 0.09154715511016548, 0.0935281697921455, 0.0955091844741255, 0.09749019915610552, 0.09947121383808553, 0.10145222852006555, 0.10343324320204555, 0.10541425788402557, 0.10739527256600559, 0.1093762872479856, 0.11135730192996561, 0.11333831661194563, 0.11531933129392564, 0.11730034597590566, 0.11928136065788567, 0.12126237533986568, 0.1232433900218457, 0.12522440470382573, 0.1272054193858057, 0.12918643406778574, 0.13116744874976574, 0.13314846343174577, 0.13512947811372578, 0.1371104927957058, 0.1390915074776858, 0.14107252215966581, 0.14305353684164585, 0.14503455152362585, 0.14701556620560585, 0.14899658088758588, 0.1509775955695659, 0.15295861025154592, 0.15493962493352592, 0.15692063961550592, 0.15890165429748596, 0.16088266897946596, 0.16286368366144596, 0.164844698343426, 0.166825713025406, 0.16880672770738603, 0.17078774238936603, 0.17276875707134604, 0.17474977175332607, 0.17673078643530607, 0.17871180111728607, 0.1806928157992661, 0.1826738304812461, 0.18465484516322614, 0.18663585984520614, 0.18861687452718615, 0.19059788920916618, 0.19257890389114618, 0.19455991857312618, 0.19654093325510621, 0.19852194793708622, 0.20050296261906625, 0.20248397730104625, 0.20446499198302626, 0.2064460066650063, 0.2084270213469863, 0.2104080360289663, 0.21238905071094633, 0.21437006539292633, 0.21635108007490636, 0.21833209475688636, 0.22031310943886637, 0.2222941241208464, 0.2242751388028264, 0.2262561534848064, 0.22823716816678644, 0.23021818284876644, 0.23219919753074647, 0.23418021221272647, 0.23616122689470648, 0.2381422415766865, 0.2401232562586665, 0.24210427094064652, 0.24408528562262655, 0.24606630030460655, 0.24804731498658658, 0.2500283296685666, 0.25200934435054656, 0.2539903590325266, 0.2559713737145066, 0.25795238839648665, 0.25993340307846663, 0.26191441776044666, 0.2638954324424267, 0.2658764471244067, 0.2678574618063867, 0.26983847648836673, 0.27181949117034676, 0.27380050585232674, 0.27578152053430677, 0.2777625352162868, 0.2797435498982668, 0.2817245645802468, 0.28370557926222684, 0.2856865939442068, 0.28766760862618684, 0.2896486233081669, 0.29162963799014685, 0.2936106526721269, 0.2955916673541069, 0.29757268203608694, 0.2995536967180669, 0.30153471140004695, 0.303515726082027, 0.30549674076400696, 0.307477755445987, 0.309458770127967, 0.311439784809947, 0.313420799491927, 0.31540181417390706, 0.31738282885588703, 0.31936384353786706, 0.3213448582198471, 0.32332587290182707, 0.3253068875838071, 0.32728790226578713, 0.32926891694776717, 0.33124993162974714, 0.33323094631172717, 0.3352119609937072, 0.3371929756756872, 0.3391739903576672, 0.34115500503964724, 0.3431360197216272, 0.34511703440360725, 0.3470980490855873, 0.34907906376756725, 0.3510600784495473, 0.3530410931315273, 0.3550221078135073, 0.3570031224954873, 0.35898413717746736, 0.3609651518594474, 0.36294616654142736, 0.3649271812234074, 0.3669081959053874, 0.3688892105873674, 0.37087022526934743, 0.37285123995132746, 0.37483225463330744, 0.37681326931528747, 0.3787942839972675, 0.3807752986792475, 0.3827563133612275, 0.38473732804320754, 0.3867183427251875, 0.38869935740716755, 0.3906803720891476, 0.3926613867711276, 0.3946424014531076, 0.3966234161350876, 0.39860443081706765, 0.4005854454990476, 0.40256646018102765, 0.4045474748630077, 0.40652848954498766, 0.4085095042269677, 0.4104905189089477, 0.4124715335909277, 0.41445254827290773, 0.41643356295488776, 0.41841457763686773, 0.42039559231884777, 0.4223766070008278, 0.42435762168280783, 0.4263386363647878, 0.42831965104676784, 0.43030066572874787, 0.43228168041072784, 0.4342626950927079, 0.4362437097746879, 0.4382247244566679, 0.4402057391386479, 0.44218675382062794, 0.4441677685026079, 0.44614878318458795, 0.448129797866568, 0.45011081254854796, 0.452091827230528, 0.454072841912508, 0.45605385659448805, 0.458034871276468, 0.46001588595844806, 0.4619969006404281, 0.46397791532240806, 0.4659589300043881, 0.4679399446863681, 0.4699209593683481, 0.47190197405032813, 0.47388298873230816, 0.47586400341428814, 0.47784501809626817, 0.4798260327782482, 0.4818070474602282, 0.4837880621422082, 0.48576907682418824, 0.48775009150616827, 0.48973110618814825, 0.4917121208701283, 0.4936931355521083, 0.4956741502340883, 0.4976551649160683, 0.49963617959804835, 0.5016171942800283, 0.5035982089620084, 0.5055792236439883, 0.5075602383259684, 0.5095412530079484, 0.5115222676899284, 0.5135032823719085, 0.5154842970538884, 0.5174653117358684, 0.5194463264178485, 0.5214273410998285, 0.5234083557818084, 0.5253893704637885, 0.5273703851457685, 0.5293513998277486, 0.5313324145097286, 0.5333134291917085, 0.5352944438736886, 0.5372754585556686, 0.5392564732376486, 0.5412374879196287, 0.5432185026016086, 0.5451995172835886, 0.5471805319655687, 0.5491615466475487, 0.5511425613295287, 0.5531235760115087, 0.5551045906934887, 0.5570856053754687, 0.5590666200574488, 0.5610476347394288, 0.5630286494214087, 0.5650096641033888, 0.5669906787853688, 0.5689716934673488, 0.5709527081493289, 0.5729337228313088, 0.5749147375132888, 0.5768957521952689, 0.5788767668772489, 0.5808577815592288, 0.5828387962412089, 0.5848198109231889, 0.5868008256051689, 0.588781840287149, 0.590762854969129, 0.592743869651109, 0.594724884333089, 0.596705899015069, 0.5986869136970491, 0.600667928379029, 0.602648943061009, 0.6046299577429891, 0.6066109724249691, 0.6085919871069491, 0.6105730017889291, 0.6125540164709091, 0.6145350311528891, 0.6165160458348692, 0.6184970605168492, 0.6204780751988291, 0.6224590898808092, 0.6244401045627892, 0.6264211192447692, 0.6284021339267493, 0.6303831486087292, 0.6323641632907092, 0.6343451779726893, 0.6363261926546693, 0.6383072073366493, 0.6402882220186293, 0.6422692367006093, 0.6442502513825893, 0.6462312660645694, 0.6482122807465494, 0.6501932954285293, 0.6521743101105094, 0.6541553247924894, 0.6561363394744695, 0.6581173541564495, 0.6600983688384294, 0.6620793835204095, 0.6640603982023895, 0.6660414128843695, 0.6680224275663496, 0.6700034422483295, 0.6719844569303095, 0.6739654716122896, 0.6759464862942696, 0.6779275009762495, 0.6799085156582296, 0.6818895303402096, 0.6838705450221896, 0.6858515597041697, 0.6878325743861496, 0.6898135890681296, 0.6917946037501097, 0.6937756184320897, 0.6957566331140697, 0.6977376477960497, 0.6997186624780297, 0.7016996771600097, 0.7036806918419898, 0.7056617065239698, 0.7076427212059497, 0.7096237358879298, 0.7116047505699098, 0.7135857652518898, 0.7155667799338699, 0.7175477946158498, 0.7195288092978299, 0.7215098239798099, 0.7234908386617899, 0.72547185334377, 0.7274528680257499, 0.7294338827077299, 0.73141489738971, 0.73339591207169, 0.73537692675367, 0.73735794143565, 0.73933895611763, 0.74131997079961, 0.7433009854815901, 0.74528200016357, 0.74726301484555, 0.7492440295275301, 0.7512250442095101, 0.7532060588914901, 0.7551870735734701, 0.7571680882554501, 0.7591491029374301, 0.7611301176194102, 0.7631111323013902, 0.7650921469833701, 0.7670731616653502, 0.7690541763473302, 0.7710351910293102, 0.7730162057112903, 0.7749972203932702, 0.7769782350752503, 0.7789592497572303, 0.7809402644392103, 0.7829212791211904, 0.7849022938031703, 0.7868833084851503, 0.7888643231671304, 0.7908453378491104, 0.7928263525310904, 0.7948073672130704, 0.7967883818950504, 0.7987693965770304, 0.8007504112590105, 0.8027314259409905, 0.8047124406229704, 0.8066934553049505, 0.8086744699869305, 0.8106554846689105, 0.8126364993508906, 0.8146175140328705, 0.8165985287148505, 0.8185795433968306, 0.8205605580788106, 0.8225415727607905, 0.8245225874427706, 0.8265036021247506, 0.8284846168067306, 0.8304656314887107, 0.8324466461706906, 0.8344276608526706, 0.8364086755346507, 0.8383896902166307, 0.8403707048986108, 0.8423517195805907, 0.8443327342625707, 0.8463137489445508, 0.8482947636265308, 0.8502757783085108, 0.8522567929904908, 0.8542378076724708, 0.8562188223544508, 0.8581998370364309, 0.8601808517184109, 0.8621618664003908, 0.8641428810823709, 0.8661238957643509, 0.8681049104463309, 0.870085925128311, 0.8720669398102909, 0.8740479544922709, 0.876028969174251, 0.878009983856231, 0.879990998538211, 0.881972013220191, 0.883953027902171, 0.885934042584151, 0.8879150572661311, 0.889896071948111, 0.891877086630091, 0.8938581013120711, 0.8958391159940511, 0.8978201306760311, 0.8998011453580111, 0.9017821600399911, 0.9037631747219712, 0.9057441894039512, 0.9077252040859312, 0.9097062187679112, 0.9116872334498912, 0.9136682481318712, 0.9156492628138513, 0.9176302774958313, 0.9196112921778112, 0.9215923068597913, 0.9235733215417713, 0.9255543362237513, 0.9275353509057314, 0.9295163655877113, 0.9314973802696913, 0.9334783949516714, 0.9354594096336514, 0.9374404243156313, 0.9394214389976114, 0.9414024536795914, 0.9433834683615714, 0.9453644830435515, 0.9473454977255314, 0.9493265124075114, 0.9513075270894915, 0.9532885417714715, 0.9552695564534515, 0.9572505711354315, 0.9592315858174115, 0.9612126004993915, 0.9631936151813716, 0.9651746298633516, 0.9671556445453316, 0.9691366592273116, 0.9711176739092916, 0.9730986885912717, 0.9750797032732517, 0.9770607179552316, 0.9790417326372117, 0.9810227473191917, 0.9830037620011717, 0.9849847766831518, 0.9869657913651317, 0.9889468060471117, 0.9909278207290918], \"xaxis\": \"x\", \"y\": [3.7773559760071693, 3.7878813398223268, 3.7964073728716268, 3.8029242084092165, 3.8074253167073295, 3.809907517600637, 3.810370983653412, 3.8088192339530127, 3.8052591185702083, 3.799700793763701, 3.7921576880424475, 3.7826464592348823, 3.771186942749293, 3.757802091243272, 3.7425179059527487, 3.725363359962813, 3.706370313732061, 3.685573423210887, 3.6630100409202244, 3.638720110382444, 3.6127460543182486, 3.5851326570446105, 3.555926941526672, 3.5251780415531457, 3.492937069518565, 3.459256980307155, 3.424192431782613, 3.3877996423944685, 3.3501362464165747, 3.3112611473349163, 3.2712343699018547, 3.230116911371083, 3.1879705924227504, 3.14485790828101, 3.100841880516884, 3.0559859100180824, 3.0103536315939703, 2.964008770668788, 2.9170150024991517, 2.8694358143333547, 2.8213343709099683, 2.772773383671561, 2.7238149840468946, 2.6745206011310194, 2.62495084406801, 2.575165389415522, 2.5252228737441516, 2.4751807916979445, 2.4250953997152815, 2.375021625582165, 2.3250129839625853, 2.275121498023471, 2.2253976272445852, 2.1758902014772086, 2.1266463612890973, 2.077711504607734, 2.029129239648885, 1.9809413440934571, 1.9331877304524376, 1.8859064175375435, 1.8391335079341313, 1.7929031713529848, 1.7472476337188645, 1.7021971718363038, 1.6577801134570564, 1.614022842558769, 1.5709498096311862, 1.5285835467542155, 1.4869446872415952, 1.4460519896148953, 1.4059223656648163, 1.36657091235046, 1.3280109472823305, 1.2902540475312727, 1.2533100915032822, 1.2171873036190923, 1.1818923015377871, 1.1474301456649763, 1.1138043906886796, 1.0810171388896201, 1.0490690949772146, 1.0179596222079639, 0.9876867995494223, 0.9582474796599225, 0.9296373474621383, 0.9018509790970037, 0.8748819010534955, 0.8487226492793847, 0.8233648280878509, 0.7987991686851998, 0.7750155871554152, 0.7520032417479505, 0.7297505893260866, 0.7082454408440133, 0.6874750157317779, 0.6674259950780376, 0.6480845735113699, 0.6294365096914225, 0.6114671753316298, 0.5941616026852796, 0.5775045304366327, 0.5614804479482196, 0.5460736378246466, 0.5312682167619784, 0.5170481746600947, 0.5033974119833305, 0.4902997753621965, 0.477739091435919, 0.4656991989420919, 0.4541639790657857, 0.4431173840659909, 0.4325434642023819, 0.422426392989992, 0.4127504908135258, 0.40350024693671965, 0.3946603399454063, 0.3862156566657189, 0.3781513096012809, 0.3704526529351825, 0.3631052971441762, 0.3560951222737371, 0.3494082899235607, 0.34303125399362516, 0.33695077024126463, 0.33115390469969236, 0.3256280410081935, 0.3203608867037421, 0.315340478523139, 0.3105551867639427, 0.3059937187514428, 0.3016451214578268, 0.2974987833184205, 0.293544435288578, 0.2897721511833568, 0.2861723473406769, 0.28273578164714397, 0.27945355196420607, 0.27631709399078136, 0.2733181785969714, 0.2704489086619795, 0.267701715447878, 0.26506935453945135, 0.26254490137894576, 0.2601217464232531, 0.2577935899497857, 0.25555443653612175, 0.25339858923735603, 0.25132064348408123, 0.24931548072292883, 0.24737826182071196, 0.24550442025239644, 0.24368965509238788, 0.2419299238279277, 0.2402214350128154, 0.23856064077910968, 0.23694422922399055, 0.23536911668855043, 0.2338324399448863, 0.23233154830755776, 0.23086399568517343, 0.22942753258761192, 0.2280200981041609, 0.22663981186763885, 0.22528496601937176, 0.22395401718971136, 0.2226455785085925, 0.22135841166044373, 0.2200914189975587, 0.2188436357258291, 0.21761422217650989, 0.21640245617742657, 0.21520772553675482, 0.21402952065218794, 0.21286742725795776, 0.21172111932179324, 0.2105903521034696, 0.2094749553861441, 0.20837482689116146, 0.20728992588646925, 0.20622026699819085, 0.20516591423426833, 0.20412697522842813, 0.20310359571200023, 0.20209595422038015, 0.20110425704014526, 0.20012873340202092, 0.19916963092405648, 0.198227211308505, 0.1973017462950233, 0.19639351387189985, 0.19550279474611876, 0.19462986907214483, 0.1937750134383981, 0.19293849810946892, 0.1921205845212253, 0.19132152302505978, 0.19054155087665878, 0.18978089046381816, 0.18903974776701804, 0.18831831104566296, 0.1876167497421636, 0.186935213595313, 0.1862738319537542, 0.1856327132797264, 0.18501194483272293, 0.1844115925221886, 0.18383170091795273, 0.18327229340672133, 0.18273337248263333, 0.18221492015965796, 0.18171689849342437, 0.181239250199982, 0.18078189935894773, 0.18034475218853613, 0.17992769788008206, 0.17953060947982122, 0.1791533448059604, 0.17879574738935092, 0.17845764742647763, 0.17813886273387708, 0.1778391996936163, 0.1775584541799868, 0.17729641245817737, 0.17705285204631477, 0.17682754253296862, 0.17662024634291043, 0.17643071944469504, 0.17625871199440307, 0.17610396891068972, 0.17596623037710812, 0.1758452322685186, 0.17574070649921983, 0.17565238129129682, 0.17557998136250808, 0.17552322803386589, 0.17548183925787716, 0.17545552956919905, 0.1754440099602383, 0.17544698768494627, 0.17546416599477738, 0.17549524381142043, 0.17553991534154792, 0.1755978696393809, 0.17566879012339104, 0.175752354053927, 0.17584823197894625, 0.17595608715539854, 0.17607557495406345, 0.17620634225589119, 0.1763480268480385, 0.1765002568278827, 0.17666265002332657, 0.17683481343766594, 0.1770163427271878, 0.17720682171949773, 0.1774058219803558, 0.1776129024364886, 0.17782760906153428, 0.17804947463183687, 0.1782780185583839, 0.17851274680065973, 0.17875315186765553, 0.17899871291067487, 0.1792488959119681, 0.1795031539725544, 0.17976092770192928, 0.18002164571162804, 0.18028472521391745, 0.18054957272613534, 0.1808155848804691, 0.18108214933821448, 0.18134864580682555, 0.18161444715732192, 0.18187892063892466, 0.18214142918706364, 0.1824013328202607, 0.18265799012070502, 0.18291075979275756, 0.18315900229301962, 0.183402081525063, 0.18363936659143656, 0.18387023359509877, 0.1840940674820315, 0.1843102639164408, 0.1845182311796619, 0.18471739208363375, 0.18490718588963273, 0.18508707022283818, 0.18525652297321654, 0.1854150441732225, 0.18556215784284907, 0.18569741379267804, 0.18582038937572917, 0.1859306911791436, 0.18602795664698268, 0.18611185562576577, 0.18618209182472106, 0.1862384041831475, 0.18628056813773156, 0.1863083967831666, 0.18632174191993836, 0.18632049498371628, 0.18630458785135495, 0.18627399351914717, 0.1862287266495774, 0.18616884398348654, 0.1860944446152025, 0.1860056701288641, 0.18590270459482305, 0.18578577442567945, 0.18565514809216696, 0.18551113569973693, 0.1853540884273538, 0.18518439783060675, 0.18500249501186214, 0.18480884966074612, 0.1846039689688044, 0.18438839642270152, 0.18416271048081626, 0.18392752313855237, 0.1836834783880909, 0.183431250578713, 0.18317154268416258, 0.18290508448382264, 0.18263263066476004, 0.18235495885190592, 0.18207286757385643, 0.18178717417189175, 0.18149871265995476, 0.18120833154338598, 0.1809168916042417, 0.18062526366103576, 0.18033432631069005, 0.18004496366041545, 0.17975806305713965, 0.17947451282196203, 0.17919519999694672, 0.1789210081113883, 0.1786528149744526, 0.17839149050086825, 0.1781378945760806, 0.17789287496701087, 0.17765726528425546, 0.1774318830012711, 0.17721752753576347, 0.177014978398156, 0.1768249934117085, 0.1766483070084791, 0.17648562860499445, 0.1763376410611353, 0.17620499922538876, 0.17608832856927295, 0.1759882239133801, 0.17590524824714288, 0.17583993164406825, 0.17579277027386037, 0.17576422551250123, 0.17575472315103163, 0.17576465270345312, 0.1757943668138479, 0.17584418076250546, 0.17591437207054192, 0.17600518020219605, 0.17611680636370805, 0.1762494133973934, 0.17640312576926667, 0.1765780296482936, 0.1767741730751024, 0.176991566217734, 0.17723018171177402, 0.17748995508197896, 0.17777078524228704, 0.1780725350708916, 0.178395032056855, 0.17873806901454306, 0.17910140486197826, 0.17948476545904, 0.17988784450126977, 0.18031030446489835, 0.18075177759856328, 0.18121186695706626, 0.1816901474724015, 0.18218616705719148, 0.18269944773558075, 0.18322948679657072, 0.18377575796472737, 0.18433771258316353, 0.18491478080367563, 0.18550637277892865, 0.18611187985159927, 0.1867306757354398, 0.18736211768328934, 0.18800554763715202, 0.18866029335557144, 0.18932566951367355, 0.1900009787714053, 0.19068551280568471, 0.19137855330238807, 0.19207937290433033, 0.19278723611165607, 0.19350140013133693, 0.19422111567277633, 0.19494562768684964, 0.19567417604605253, 0.19640599616380153, 0.1971403195513129, 0.19787637431089242, 0.19861338556488484, 0.19935057581996482, 0.2000871652668936, 0.20082237201631623, 0.20155541227163615, 0.20228550044046112, 0.20301184918658116, 0.20373366942489848, 0.20445017026218787, 0.2051605588870108, 0.2058640404125499, 0.2065598176765478, 0.2072470910029466, 0.20792505793020669, 0.208592912911647, 0.20924984699348823, 0.20989504747658358, 0.21052769756809825, 0.21114697602964297, 0.21175205682856293, 0.2123421087992534, 0.21291629532149273, 0.21347377402286222, 0.21401369651235505, 0.2145352081522672, 0.215037447875397, 0.21551954805447848, 0.21598063443061155, 0.21641982610724855, 0.21683623561604298, 0.2172289690605645, 0.2175971263435339, 0.2179398014828392, 0.2182560830211568, 0.218545054533517, 0.21880579523663735, 0.21903738070328777, 0.21923888368435812, 0.21940937504067903, 0.2195479247859924, 0.21965360324179434, 0.21972548230407749, 0.21976263682128697, 0.2197641460820829, 0.21972909541076682, 0.2196565778674995, 0.21954569604970015, 0.2193955639902948, 0.21920530914776123, 0.21897407448222123, 0.21870102061114635, 0.2183853280375918, 0.21802619944324336, 0.2176228620379694, 0.21717456995701512, 0.21668060669645978, 0.21614028757708892, 0.2155529622264133, 0.21491801706819424, 0.21423487780852232, 0.2135030119072369, 0.2127219310232754, 0.21189119342240292, 0.21101040633569673, 0.21007922825714961, 0.20909737116880495, 0.20806460268195545, 0.20698074808311698, 0.20584569227373095, 0.20465938159286046, 0.2034218255125078, 0.20213309819561195, 0.2007933399072713, 0.19940275827027404, 0.1979616293566136, 0.196470298607307, 0.19492918157352426, 0.19333876447276177, 0.19169960455456475, 0.19001233027110281, 0.18827764124873111, 0.1864963080575306, 0.1846691717766879, 0.18279714335447375, 0.18088120276247235, 0.17892239794462378, 0.17692184356254487, 0.17488071953949663, 0.17280026940625368, 0.1706817984530104, 0.1685266716923172, 0.16633631163886287, 0.16411219591273604], \"yaxis\": \"y\"}],\n",
       "                        {\"barmode\": \"overlay\", \"hovermode\": \"closest\", \"legend\": {\"orientation\": \"h\", \"traceorder\": \"reversed\", \"x\": 1, \"xanchor\": \"right\", \"y\": 1.1, \"yanchor\": \"middle\"}, \"template\": {\"data\": {\"bar\": [{\"error_x\": {\"color\": \"#2a3f5f\"}, \"error_y\": {\"color\": \"#2a3f5f\"}, \"marker\": {\"line\": {\"color\": \"#E5ECF6\", \"width\": 0.5}}, \"type\": \"bar\"}], \"barpolar\": [{\"marker\": {\"line\": {\"color\": \"#E5ECF6\", \"width\": 0.5}}, \"type\": \"barpolar\"}], \"carpet\": [{\"aaxis\": {\"endlinecolor\": \"#2a3f5f\", \"gridcolor\": \"white\", \"linecolor\": \"white\", \"minorgridcolor\": \"white\", \"startlinecolor\": \"#2a3f5f\"}, \"baxis\": {\"endlinecolor\": \"#2a3f5f\", \"gridcolor\": \"white\", \"linecolor\": \"white\", \"minorgridcolor\": \"white\", \"startlinecolor\": \"#2a3f5f\"}, \"type\": \"carpet\"}], \"choropleth\": [{\"colorbar\": {\"outlinewidth\": 0, \"ticks\": \"\"}, \"type\": \"choropleth\"}], \"contour\": [{\"colorbar\": {\"outlinewidth\": 0, \"ticks\": \"\"}, \"colorscale\": [[0.0, \"#0d0887\"], [0.1111111111111111, \"#46039f\"], [0.2222222222222222, \"#7201a8\"], [0.3333333333333333, \"#9c179e\"], [0.4444444444444444, \"#bd3786\"], [0.5555555555555556, \"#d8576b\"], [0.6666666666666666, \"#ed7953\"], [0.7777777777777778, \"#fb9f3a\"], [0.8888888888888888, \"#fdca26\"], [1.0, \"#f0f921\"]], \"type\": \"contour\"}], \"contourcarpet\": [{\"colorbar\": {\"outlinewidth\": 0, \"ticks\": \"\"}, \"type\": \"contourcarpet\"}], \"heatmap\": [{\"colorbar\": {\"outlinewidth\": 0, \"ticks\": \"\"}, \"colorscale\": [[0.0, \"#0d0887\"], [0.1111111111111111, \"#46039f\"], [0.2222222222222222, \"#7201a8\"], [0.3333333333333333, \"#9c179e\"], [0.4444444444444444, \"#bd3786\"], [0.5555555555555556, \"#d8576b\"], [0.6666666666666666, \"#ed7953\"], [0.7777777777777778, \"#fb9f3a\"], [0.8888888888888888, \"#fdca26\"], [1.0, \"#f0f921\"]], \"type\": \"heatmap\"}], \"heatmapgl\": [{\"colorbar\": {\"outlinewidth\": 0, \"ticks\": \"\"}, \"colorscale\": [[0.0, \"#0d0887\"], [0.1111111111111111, \"#46039f\"], [0.2222222222222222, \"#7201a8\"], [0.3333333333333333, \"#9c179e\"], [0.4444444444444444, \"#bd3786\"], [0.5555555555555556, \"#d8576b\"], [0.6666666666666666, \"#ed7953\"], [0.7777777777777778, \"#fb9f3a\"], [0.8888888888888888, \"#fdca26\"], [1.0, \"#f0f921\"]], \"type\": \"heatmapgl\"}], \"histogram\": [{\"marker\": {\"colorbar\": {\"outlinewidth\": 0, \"ticks\": \"\"}}, \"type\": \"histogram\"}], \"histogram2d\": [{\"colorbar\": {\"outlinewidth\": 0, \"ticks\": \"\"}, \"colorscale\": [[0.0, \"#0d0887\"], [0.1111111111111111, \"#46039f\"], [0.2222222222222222, \"#7201a8\"], [0.3333333333333333, \"#9c179e\"], [0.4444444444444444, \"#bd3786\"], [0.5555555555555556, \"#d8576b\"], [0.6666666666666666, \"#ed7953\"], [0.7777777777777778, \"#fb9f3a\"], [0.8888888888888888, \"#fdca26\"], [1.0, \"#f0f921\"]], \"type\": \"histogram2d\"}], \"histogram2dcontour\": [{\"colorbar\": {\"outlinewidth\": 0, \"ticks\": \"\"}, \"colorscale\": [[0.0, \"#0d0887\"], [0.1111111111111111, \"#46039f\"], [0.2222222222222222, \"#7201a8\"], [0.3333333333333333, \"#9c179e\"], [0.4444444444444444, \"#bd3786\"], [0.5555555555555556, \"#d8576b\"], [0.6666666666666666, \"#ed7953\"], [0.7777777777777778, \"#fb9f3a\"], [0.8888888888888888, \"#fdca26\"], [1.0, \"#f0f921\"]], \"type\": \"histogram2dcontour\"}], \"mesh3d\": [{\"colorbar\": {\"outlinewidth\": 0, \"ticks\": \"\"}, \"type\": \"mesh3d\"}], \"parcoords\": [{\"line\": {\"colorbar\": {\"outlinewidth\": 0, \"ticks\": \"\"}}, \"type\": \"parcoords\"}], \"pie\": [{\"automargin\": true, \"type\": \"pie\"}], \"scatter\": [{\"marker\": {\"colorbar\": {\"outlinewidth\": 0, \"ticks\": \"\"}}, \"type\": \"scatter\"}], \"scatter3d\": [{\"line\": {\"colorbar\": {\"outlinewidth\": 0, \"ticks\": \"\"}}, \"marker\": {\"colorbar\": {\"outlinewidth\": 0, \"ticks\": \"\"}}, \"type\": \"scatter3d\"}], \"scattercarpet\": [{\"marker\": {\"colorbar\": {\"outlinewidth\": 0, \"ticks\": \"\"}}, \"type\": \"scattercarpet\"}], \"scattergeo\": [{\"marker\": {\"colorbar\": {\"outlinewidth\": 0, \"ticks\": \"\"}}, \"type\": \"scattergeo\"}], \"scattergl\": [{\"marker\": {\"colorbar\": {\"outlinewidth\": 0, \"ticks\": \"\"}}, \"type\": \"scattergl\"}], \"scattermapbox\": [{\"marker\": {\"colorbar\": {\"outlinewidth\": 0, \"ticks\": \"\"}}, \"type\": \"scattermapbox\"}], \"scatterpolar\": [{\"marker\": {\"colorbar\": {\"outlinewidth\": 0, \"ticks\": \"\"}}, \"type\": \"scatterpolar\"}], \"scatterpolargl\": [{\"marker\": {\"colorbar\": {\"outlinewidth\": 0, \"ticks\": \"\"}}, \"type\": \"scatterpolargl\"}], \"scatterternary\": [{\"marker\": {\"colorbar\": {\"outlinewidth\": 0, \"ticks\": \"\"}}, \"type\": \"scatterternary\"}], \"surface\": [{\"colorbar\": {\"outlinewidth\": 0, \"ticks\": \"\"}, \"colorscale\": [[0.0, \"#0d0887\"], [0.1111111111111111, \"#46039f\"], [0.2222222222222222, \"#7201a8\"], [0.3333333333333333, \"#9c179e\"], [0.4444444444444444, \"#bd3786\"], [0.5555555555555556, \"#d8576b\"], [0.6666666666666666, \"#ed7953\"], [0.7777777777777778, \"#fb9f3a\"], [0.8888888888888888, \"#fdca26\"], [1.0, \"#f0f921\"]], \"type\": \"surface\"}], \"table\": [{\"cells\": {\"fill\": {\"color\": \"#EBF0F8\"}, \"line\": {\"color\": \"white\"}}, \"header\": {\"fill\": {\"color\": \"#C8D4E3\"}, \"line\": {\"color\": \"white\"}}, \"type\": \"table\"}]}, \"layout\": {\"annotationdefaults\": {\"arrowcolor\": \"#2a3f5f\", \"arrowhead\": 0, \"arrowwidth\": 1}, \"coloraxis\": {\"colorbar\": {\"outlinewidth\": 0, \"ticks\": \"\"}}, \"colorscale\": {\"diverging\": [[0, \"#8e0152\"], [0.1, \"#c51b7d\"], [0.2, \"#de77ae\"], [0.3, \"#f1b6da\"], [0.4, \"#fde0ef\"], [0.5, \"#f7f7f7\"], [0.6, \"#e6f5d0\"], [0.7, \"#b8e186\"], [0.8, \"#7fbc41\"], [0.9, \"#4d9221\"], [1, \"#276419\"]], \"sequential\": [[0.0, \"#0d0887\"], [0.1111111111111111, \"#46039f\"], [0.2222222222222222, \"#7201a8\"], [0.3333333333333333, \"#9c179e\"], [0.4444444444444444, \"#bd3786\"], [0.5555555555555556, \"#d8576b\"], [0.6666666666666666, \"#ed7953\"], [0.7777777777777778, \"#fb9f3a\"], [0.8888888888888888, \"#fdca26\"], [1.0, \"#f0f921\"]], \"sequentialminus\": [[0.0, \"#0d0887\"], [0.1111111111111111, \"#46039f\"], [0.2222222222222222, \"#7201a8\"], [0.3333333333333333, \"#9c179e\"], [0.4444444444444444, \"#bd3786\"], [0.5555555555555556, \"#d8576b\"], [0.6666666666666666, \"#ed7953\"], [0.7777777777777778, \"#fb9f3a\"], [0.8888888888888888, \"#fdca26\"], [1.0, \"#f0f921\"]]}, \"colorway\": [\"#636efa\", \"#EF553B\", \"#00cc96\", \"#ab63fa\", \"#FFA15A\", \"#19d3f3\", \"#FF6692\", \"#B6E880\", \"#FF97FF\", \"#FECB52\"], \"font\": {\"color\": \"#2a3f5f\"}, \"geo\": {\"bgcolor\": \"white\", \"lakecolor\": \"white\", \"landcolor\": \"#E5ECF6\", \"showlakes\": true, \"showland\": true, \"subunitcolor\": \"white\"}, \"hoverlabel\": {\"align\": \"left\"}, \"hovermode\": \"closest\", \"mapbox\": {\"style\": \"light\"}, \"paper_bgcolor\": \"white\", \"plot_bgcolor\": \"#E5ECF6\", \"polar\": {\"angularaxis\": {\"gridcolor\": \"white\", \"linecolor\": \"white\", \"ticks\": \"\"}, \"bgcolor\": \"#E5ECF6\", \"radialaxis\": {\"gridcolor\": \"white\", \"linecolor\": \"white\", \"ticks\": \"\"}}, \"scene\": {\"xaxis\": {\"backgroundcolor\": \"#E5ECF6\", \"gridcolor\": \"white\", \"gridwidth\": 2, \"linecolor\": \"white\", \"showbackground\": true, \"ticks\": \"\", \"zerolinecolor\": \"white\"}, \"yaxis\": {\"backgroundcolor\": \"#E5ECF6\", \"gridcolor\": \"white\", \"gridwidth\": 2, \"linecolor\": \"white\", \"showbackground\": true, \"ticks\": \"\", \"zerolinecolor\": \"white\"}, \"zaxis\": {\"backgroundcolor\": \"#E5ECF6\", \"gridcolor\": \"white\", \"gridwidth\": 2, \"linecolor\": \"white\", \"showbackground\": true, \"ticks\": \"\", \"zerolinecolor\": \"white\"}}, \"shapedefaults\": {\"line\": {\"color\": \"#2a3f5f\"}}, \"ternary\": {\"aaxis\": {\"gridcolor\": \"white\", \"linecolor\": \"white\", \"ticks\": \"\"}, \"baxis\": {\"gridcolor\": \"white\", \"linecolor\": \"white\", \"ticks\": \"\"}, \"bgcolor\": \"#E5ECF6\", \"caxis\": {\"gridcolor\": \"white\", \"linecolor\": \"white\", \"ticks\": \"\"}}, \"title\": {\"x\": 0.05}, \"xaxis\": {\"automargin\": true, \"gridcolor\": \"white\", \"linecolor\": \"white\", \"ticks\": \"\", \"title\": {\"standoff\": 15}, \"zerolinecolor\": \"white\", \"zerolinewidth\": 2}, \"yaxis\": {\"automargin\": true, \"gridcolor\": \"white\", \"linecolor\": \"white\", \"ticks\": \"\", \"title\": {\"standoff\": 15}, \"zerolinecolor\": \"white\", \"zerolinewidth\": 2}}}, \"xaxis\": {\"anchor\": \"y2\", \"domain\": [0.0, 1.0], \"zeroline\": false}, \"yaxis\": {\"anchor\": \"free\", \"domain\": [0.0, 1], \"position\": 0.0, \"showticklabels\": false, \"visible\": false}},\n",
       "                        {\"responsive\": true}\n",
       "                    ).then(function(){\n",
       "                            \n",
       "var gd = document.getElementById('0fe05215-98cb-432e-9ee4-c74247e0602f');\n",
       "var x = new MutationObserver(function (mutations, observer) {{\n",
       "        var display = window.getComputedStyle(gd).display;\n",
       "        if (!display || display === 'none') {{\n",
       "            console.log([gd, 'removed!']);\n",
       "            Plotly.purge(gd);\n",
       "            observer.disconnect();\n",
       "        }}\n",
       "}});\n",
       "\n",
       "// Listen for the removal of the full notebook cells\n",
       "var notebookContainer = gd.closest('#notebook-container');\n",
       "if (notebookContainer) {{\n",
       "    x.observe(notebookContainer, {childList: true});\n",
       "}}\n",
       "\n",
       "// Listen for the clearing of the current output cell\n",
       "var outputEl = gd.closest('.output');\n",
       "if (outputEl) {{\n",
       "    x.observe(outputEl, {childList: true});\n",
       "}}\n",
       "\n",
       "                        })\n",
       "                };\n",
       "                \n",
       "            </script>\n",
       "        </div>\n",
       "</body>\n",
       "</html>"
      ]
     },
     "metadata": {
      "tags": []
     },
     "output_type": "display_data"
    }
   ],
   "source": [
    "import plotly.figure_factory as ff\n",
    "import numpy as np\n",
    "\n",
    "# Plot the probability density chart\n",
    "probability_dens = pd.DataFrame({'prob': predictions_raw, 'y': y_test})\n",
    "\n",
    "x1 = probability_dens[probability_dens[\"y\"]==1]['prob'].values\n",
    "x2 = probability_dens[probability_dens[\"y\"]==0]['prob'].values\n",
    "\n",
    "hist_data = [x1, x2]\n",
    "\n",
    "group_labels = ['Adversarial', 'Original']\n",
    "colors = ['#C04000', '#228B22']\n",
    "\n",
    "# Create distplot with curve_type set to 'normal'\n",
    "fig = ff.create_distplot(hist_data, group_labels, show_hist=False, colors=colors, show_rug=False)\n",
    "\n",
    "# Add title\n",
    "fig.update_layout(legend=dict(\n",
    "                    orientation=\"h\",\n",
    "                    yanchor=\"middle\",\n",
    "                    y=1.1,\n",
    "                    xanchor=\"right\",\n",
    "                    x=1\n",
    "                ))\n",
    "\n",
    "fig.update_yaxes(visible=False, showticklabels=False)\n",
    "fig.show()"
   ]
  }
 ],
 "metadata": {
  "accelerator": "GPU",
  "colab": {
   "collapsed_sections": [],
   "machine_shape": "hm",
   "name": "Testing Classifier.ipynb",
   "provenance": []
  },
  "kernelspec": {
   "display_name": "Python 3",
   "language": "python",
   "name": "python3"
  },
  "language_info": {
   "codemirror_mode": {
    "name": "ipython",
    "version": 3
   },
   "file_extension": ".py",
   "mimetype": "text/x-python",
   "name": "python",
   "nbconvert_exporter": "python",
   "pygments_lexer": "ipython3",
   "version": "3.8.5"
  }
 },
 "nbformat": 4,
 "nbformat_minor": 4
}
