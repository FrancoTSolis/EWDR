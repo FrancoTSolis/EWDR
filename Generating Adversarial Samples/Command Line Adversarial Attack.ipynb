{
 "cells": [
  {
   "cell_type": "markdown",
   "metadata": {
    "id": "6rH4qWQM62dw"
   },
   "source": [
    "# Generating Adversarial Samples\n",
    "\n",
    "This script aims to create adversarial samples by running command line methods from `TextAttack` library. The output is buffered into python for later post-processing.\n",
    "\n",
    "We strongly recommend using GPUs. This code was originally executed on Google Colab.\n",
    "\n",
    "You must expect long execution times for this script."
   ]
  },
  {
   "cell_type": "code",
   "execution_count": null,
   "metadata": {
    "id": "uFR1BaaamePy"
   },
   "outputs": [],
   "source": [
    "# Define root path for the project\n",
    "input_path = './Data/'"
   ]
  },
  {
   "cell_type": "code",
   "execution_count": null,
   "metadata": {
    "id": "_tmrr-d-VX4U"
   },
   "outputs": [],
   "source": [
    "\"\"\"\n",
    "This cell runs the command line program from Tetxtattack library and stores the output in\n",
    "a string variable. \n",
    "\n",
    "For details on the parameters see official documentation:\n",
    "https://textattack.readthedocs.io/en/latest/1start/command_line_usage.html\n",
    "\"\"\"\n",
    "\n",
    "import subprocess\n",
    "\n",
    "output = subprocess.run(['textattack',\n",
    " 'attack',\n",
    " '--recipe',\n",
    " 'pwws',\n",
    " '--model',\n",
    " 'distilbert-base-uncased-imdb',\n",
    " '--num-examples',\n",
    " '1000',\n",
    " '--dataset-from-huggingface',\n",
    " 'imdb'], stdout=subprocess.PIPE).stdout.decode('utf-8')"
   ]
  },
  {
   "cell_type": "code",
   "execution_count": null,
   "metadata": {
    "id": "RAdnsqahaQhk"
   },
   "outputs": [],
   "source": [
    "# Remove execution summary\n",
    "results = output.split('+-------------------------------+--------+')[0]"
   ]
  },
  {
   "cell_type": "code",
   "execution_count": null,
   "metadata": {
    "id": "UnBX18P_XOAF"
   },
   "outputs": [],
   "source": [
    "# Remove attack information\n",
    "import re\n",
    "results = re.compile(\"--------------------------------------------- Result [0-9]+ ---------------------------------------------\").split(results)\n",
    "results = results[1:]"
   ]
  },
  {
   "cell_type": "code",
   "execution_count": null,
   "metadata": {
    "id": "HOGNHf8nbSfX"
   },
   "outputs": [],
   "source": [
    "ansi_escape = re.compile(r'\\x1B(?:[@-Z\\\\-_]|\\[[0-?]*[ -/]*[@-~])')\n",
    "\n",
    "def parse_adversarial(info):\n",
    "    \"\"\"\n",
    "    Structures info from an attack.\n",
    "\n",
    "    :param info: text from an attack output from TextAttack library \n",
    "\n",
    "    :return: structured information about the attack\n",
    "    \"\"\"\n",
    "    summary = ansi_escape.sub('', info[0]).split()\n",
    "    original_class = summary[0]\n",
    "    original_confidence = summary[1]\n",
    "    adversarial_class = summary[3]\n",
    "    adversarial_confidence = summary[4]\n",
    "    original_text = ansi_escape.sub('', info[1])\n",
    "    adversarial_text = ansi_escape.sub('', info[2])\n",
    "\n",
    "    return original_class, original_confidence, adversarial_class, adversarial_confidence, original_text, adversarial_text"
   ]
  },
  {
   "cell_type": "code",
   "execution_count": null,
   "metadata": {
    "id": "ZvJjBaTEYg80"
   },
   "outputs": [],
   "source": [
    "# Transform unstructured text data into Pandas DataFrame\n",
    "\n",
    "import pandas as pd\n",
    "\n",
    "df = pd.DataFrame(columns=['original_text', 'adversarial_text', 'original_class', 'original_confidence', 'adversarial_class', 'adversarial_confidence'])\n",
    "\n",
    "for r in results:\n",
    "    info = [i for i in r.split('\\n') if i!=''] # Select lines with text\n",
    "    if len(info) == 3:\n",
    "        # Structure info using previous function and append to dict\n",
    "        structured_info = parse_adversarial(info)\n",
    "        df = df.append({'original_text': structured_info[4], \n",
    "                        'adversarial_text': structured_info[5], \n",
    "                        'original_class': structured_info[0], \n",
    "                        'original_confidence': structured_info[1], \n",
    "                        'adversarial_class': structured_info[2], \n",
    "                        'adversarial_confidence': structured_info[3]},\n",
    "                        ignore_index=True)"
   ]
  },
  {
   "cell_type": "code",
   "execution_count": null,
   "metadata": {
    "id": "Hg07R5rSbp85"
   },
   "outputs": [],
   "source": [
    "df.head()"
   ]
  },
  {
   "cell_type": "code",
   "execution_count": null,
   "metadata": {
    "id": "4AZlvsP5d03l"
   },
   "outputs": [],
   "source": [
    "# Include name of the attack\n",
    "df['attack'] = 'pwws'"
   ]
  },
  {
   "cell_type": "code",
   "execution_count": null,
   "metadata": {
    "id": "uekCldXWL-x2"
   },
   "outputs": [],
   "source": [
    "def find_replaces(str1, str2):\n",
    "    \"\"\"\n",
    "    Find all replacements done by the attack for a given original and adversarial sentence.\n",
    "\n",
    "    :param str1: original text string\n",
    "    :param str2: adversarial text string\n",
    "\n",
    "    :return dictionary with replacements\n",
    "    \"\"\"\n",
    "    origin = str1.split()\n",
    "    dest = str2.split()\n",
    "\n",
    "    replaces = {}\n",
    "\n",
    "    for i in range(len(origin)):\n",
    "    if origin[i] != dest[i]:\n",
    "        replaces[origin[i]] = dest[i]\n",
    "\n",
    "    return replaces"
   ]
  },
  {
   "cell_type": "code",
   "execution_count": null,
   "metadata": {
    "id": "M2p4AuWfL_k8"
   },
   "outputs": [],
   "source": [
    "# Include replacement dictionary in the dataframe\n",
    "df['replace_dict'] = df.apply(lambda x: find_replaces(x['original_text'], x['adversarial_text']), axis=1)\n",
    "\n",
    "# Include number of replacements in the dataframe\n",
    "df['replace_num'] = df['replace_dict'].apply(lambda x: len(x.keys()))"
   ]
  },
  {
   "cell_type": "code",
   "execution_count": null,
   "metadata": {
    "id": "EWsCSAtnM72U"
   },
   "outputs": [],
   "source": [
    "df.head()"
   ]
  },
  {
   "cell_type": "code",
   "execution_count": null,
   "metadata": {
    "id": "6gKp8U2hL6aM"
   },
   "outputs": [],
   "source": [
    "# Store information in local file system\n",
    "df.to_csv(input_path+'/imdb_pwws_distilbert.csv')"
   ]
  }
 ],
 "metadata": {
  "accelerator": "GPU",
  "colab": {
   "collapsed_sections": [],
   "machine_shape": "hm",
   "name": "[FINAL] Command Line Adversarial Attack",
   "provenance": []
  },
  "kernelspec": {
   "display_name": "Python 3",
   "language": "python",
   "name": "python3"
  },
  "language_info": {
   "codemirror_mode": {
    "name": "ipython",
    "version": 3
   },
   "file_extension": ".py",
   "mimetype": "text/x-python",
   "name": "python",
   "nbconvert_exporter": "python",
   "pygments_lexer": "ipython3",
   "version": "3.8.10"
  }
 },
 "nbformat": 4,
 "nbformat_minor": 4
}
